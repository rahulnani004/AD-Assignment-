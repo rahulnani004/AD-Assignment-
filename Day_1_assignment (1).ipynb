{
  "nbformat": 4,
  "nbformat_minor": 0,
  "metadata": {
    "colab": {
      "provenance": []
    },
    "kernelspec": {
      "name": "python3",
      "display_name": "Python 3"
    },
    "language_info": {
      "name": "python"
    }
  },
  "cells": [
    {
      "cell_type": "code",
      "execution_count": null,
      "metadata": {
        "id": "qce84-OEwGPQ"
      },
      "outputs": [],
      "source": [
        "integer_var = 10\n",
        "float_var = 15.75\n",
        "string_var = \"Hello\"\n",
        "boolean_var = True\n",
        "\n"
      ]
    },
    {
      "cell_type": "code",
      "source": [
        "print(\"Integer Variable: \", integer_var )\n",
        "\n",
        "\n"
      ],
      "metadata": {
        "id": "HmuQ2IbkmvZx"
      },
      "execution_count": null,
      "outputs": []
    },
    {
      "cell_type": "code",
      "source": [
        "print(\"  Type: \", type(integer_var))"
      ],
      "metadata": {
        "id": "o1vLLRLhnO1U"
      },
      "execution_count": null,
      "outputs": []
    },
    {
      "cell_type": "code",
      "source": [
        "print(\"Float Variable: \", float_var, )"
      ],
      "metadata": {
        "id": "uqgdN_-Om8w7"
      },
      "execution_count": null,
      "outputs": []
    },
    {
      "cell_type": "code",
      "source": [
        "print(\"  Type: \", type(float_var))"
      ],
      "metadata": {
        "colab": {
          "base_uri": "https://localhost:8080/"
        },
        "id": "qrIuXZ9AnWPy",
        "outputId": "f0a47cca-a38b-4575-f4b7-98a328bef45d"
      },
      "execution_count": null,
      "outputs": [
        {
          "output_type": "stream",
          "name": "stdout",
          "text": [
            " | Type:  <class 'float'>\n"
          ]
        }
      ]
    },
    {
      "cell_type": "code",
      "source": [
        "print(\"String Variable: \", string_var, )"
      ],
      "metadata": {
        "colab": {
          "base_uri": "https://localhost:8080/"
        },
        "id": "2czYvwhwm-d4",
        "outputId": "5705ccb2-5c98-4a7f-fa71-387e43598ed6"
      },
      "execution_count": null,
      "outputs": [
        {
          "output_type": "stream",
          "name": "stdout",
          "text": [
            "String Variable:  Hello  | Type:  <class 'str'>\n"
          ]
        }
      ]
    },
    {
      "cell_type": "code",
      "source": [
        "print(\"  Type: \", type(string_var))"
      ],
      "metadata": {
        "colab": {
          "base_uri": "https://localhost:8080/"
        },
        "id": "x54D-y8FndOk",
        "outputId": "9a3e27ef-9407-4612-c2be-ecbc722a50b0"
      },
      "execution_count": null,
      "outputs": [
        {
          "output_type": "stream",
          "name": "stdout",
          "text": [
            " | Type:  <class 'str'>\n"
          ]
        }
      ]
    },
    {
      "cell_type": "code",
      "source": [
        "\n",
        "print(\"Boolean Variable: \", boolean_var, )"
      ],
      "metadata": {
        "colab": {
          "base_uri": "https://localhost:8080/"
        },
        "id": "GU1IkuFInAxs",
        "outputId": "baae8a4b-7070-43ba-dc4b-74ef2179405f"
      },
      "execution_count": null,
      "outputs": [
        {
          "output_type": "stream",
          "name": "stdout",
          "text": [
            "Boolean Variable:  True  | Type:  <class 'bool'>\n"
          ]
        }
      ]
    },
    {
      "cell_type": "code",
      "source": [
        "print(\"  Type: \", type(boolean_var))"
      ],
      "metadata": {
        "colab": {
          "base_uri": "https://localhost:8080/"
        },
        "id": "6cAqjy7QngHj",
        "outputId": "13ad0aff-e850-41a6-da07-74a9e9b79667"
      },
      "execution_count": null,
      "outputs": [
        {
          "output_type": "stream",
          "name": "stdout",
          "text": [
            " | Type:  <class 'bool'>\n"
          ]
        }
      ]
    },
    {
      "cell_type": "code",
      "source": [],
      "metadata": {
        "id": "UAkoulOsnCPD"
      },
      "execution_count": null,
      "outputs": []
    }
  ]
}