{
  "nbformat": 4,
  "nbformat_minor": 0,
  "metadata": {
    "colab": {
      "provenance": []
    },
    "kernelspec": {
      "name": "python3",
      "display_name": "Python 3"
    },
    "language_info": {
      "name": "python"
    }
  },
  "cells": [
    {
      "cell_type": "code",
      "execution_count": null,
      "metadata": {
        "id": "tLzsGrq9_0c8",
        "colab": {
          "base_uri": "https://localhost:8080/"
        },
        "outputId": "bfae3969-cc7a-4f29-b6f0-37f07e26d59b"
      },
      "outputs": [
        {
          "name": "stdout",
          "output_type": "stream",
          "text": [
            "Enter marks for Subject 1: 55\n"
          ]
        }
      ],
      "source": [
        "subject1 = float(input(\"Enter marks for Subject 1: \"))"
      ]
    },
    {
      "cell_type": "code",
      "source": [
        "subject2 = float(input(\"Enter marks for Subject 2: \"))\n"
      ],
      "metadata": {
        "colab": {
          "base_uri": "https://localhost:8080/"
        },
        "id": "YdN1dSoMo_Je",
        "outputId": "00246b95-d7aa-4f3f-9567-cf54f0647f80"
      },
      "execution_count": null,
      "outputs": [
        {
          "name": "stdout",
          "output_type": "stream",
          "text": [
            "Enter marks for Subject 2: 56\n"
          ]
        }
      ]
    },
    {
      "cell_type": "code",
      "source": [
        "subject3 = float(input(\"Enter marks for Subject 3: \"))"
      ],
      "metadata": {
        "colab": {
          "base_uri": "https://localhost:8080/"
        },
        "id": "lkOXroHCpA18",
        "outputId": "e7e195c3-835e-49b9-b825-9cc07c5e5302"
      },
      "execution_count": null,
      "outputs": [
        {
          "name": "stdout",
          "output_type": "stream",
          "text": [
            "Enter marks for Subject 3: 69\n"
          ]
        }
      ]
    },
    {
      "cell_type": "code",
      "source": [
        "average = (subject1 + subject2 + subject3) / 3\n"
      ],
      "metadata": {
        "id": "WSnlR_e3pDVS"
      },
      "execution_count": null,
      "outputs": []
    },
    {
      "cell_type": "code",
      "source": [
        "if average >= 90:\n",
        "    print(\"Grade: A\")\n",
        "elif 80 <= average < 90:\n",
        "    print(\"Grade: B\")\n",
        "elif 70 <= average < 80:\n",
        "    print(\"Grade: C\")\n",
        "else:\n",
        "    print(\"Grade: Fail\")\n"
      ],
      "metadata": {
        "colab": {
          "base_uri": "https://localhost:8080/"
        },
        "id": "PFWkrXuopGcs",
        "outputId": "0321d23f-5984-4df7-e07c-48c8b69dcaa6"
      },
      "execution_count": null,
      "outputs": [
        {
          "output_type": "stream",
          "name": "stdout",
          "text": [
            "Grade: Fail\n"
          ]
        }
      ]
    },
    {
      "cell_type": "code",
      "source": [],
      "metadata": {
        "id": "ixfallm2tOec"
      },
      "execution_count": null,
      "outputs": []
    },
    {
      "cell_type": "code",
      "source": [],
      "metadata": {
        "id": "aRiSL54Ct1a_"
      },
      "execution_count": null,
      "outputs": []
    }
  ]
}