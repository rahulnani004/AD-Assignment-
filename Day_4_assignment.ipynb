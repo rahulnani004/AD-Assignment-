{
  "nbformat": 4,
  "nbformat_minor": 0,
  "metadata": {
    "colab": {
      "provenance": []
    },
    "kernelspec": {
      "name": "python3",
      "display_name": "Python 3"
    },
    "language_info": {
      "name": "python"
    }
  },
  "cells": [
    {
      "cell_type": "code",
      "execution_count": null,
      "metadata": {
        "colab": {
          "base_uri": "https://localhost:8080/"
        },
        "id": "5I64-uaDAUUa",
        "outputId": "95d3e1cd-76d7-452a-f90f-9c1fc7c81d65"
      },
      "outputs": [
        {
          "name": "stdout",
          "output_type": "stream",
          "text": [
            "Enter a positive integer: 6\n"
          ]
        }
      ],
      "source": [
        "n = int(input(\"Enter a positive integer: \"))"
      ]
    },
    {
      "cell_type": "code",
      "source": [
        "even_sum = 0"
      ],
      "metadata": {
        "id": "ZtldWlIhvxFU"
      },
      "execution_count": null,
      "outputs": []
    },
    {
      "cell_type": "code",
      "source": [
        "for i in range(2, n + 1, 2):\n",
        "    even_sum += i\n"
      ],
      "metadata": {
        "id": "5_QhbZ_nvzCp"
      },
      "execution_count": null,
      "outputs": []
    },
    {
      "cell_type": "code",
      "source": [
        "print(\"The sum of all even numbers between 1 and\", n, \"is:\", even_sum)"
      ],
      "metadata": {
        "colab": {
          "base_uri": "https://localhost:8080/"
        },
        "id": "v-BDg_tjv0oR",
        "outputId": "dab309e3-d930-4da7-9027-c068e418b09c"
      },
      "execution_count": null,
      "outputs": [
        {
          "output_type": "stream",
          "name": "stdout",
          "text": [
            "The sum of all even numbers between 1 and 6 is: 12\n"
          ]
        }
      ]
    },
    {
      "cell_type": "code",
      "source": [],
      "metadata": {
        "id": "wf_EFwk7v3Zk"
      },
      "execution_count": null,
      "outputs": []
    }
  ]
}