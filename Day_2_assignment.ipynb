{
  "nbformat": 4,
  "nbformat_minor": 0,
  "metadata": {
    "colab": {
      "provenance": []
    },
    "kernelspec": {
      "name": "python3",
      "display_name": "Python 3"
    },
    "language_info": {
      "name": "python"
    }
  },
  "cells": [
    {
      "cell_type": "code",
      "execution_count": null,
      "metadata": {
        "id": "cD_XHfbw_UCv"
      },
      "outputs": [],
      "source": [
        "my_list = [10, 20, 30, 40, 50]"
      ]
    },
    {
      "cell_type": "code",
      "source": [
        "my_tuple = ('apple', 'banana', 'cherry', 'date', 'elderberry')"
      ],
      "metadata": {
        "id": "Y8KHN3t2oT-a"
      },
      "execution_count": null,
      "outputs": []
    },
    {
      "cell_type": "code",
      "source": [
        "my_dict = {'name': 'Alice', 'age': 25, 'city': 'New York', 'country': 'USA', 'hobby': 'painting'}"
      ],
      "metadata": {
        "id": "wdWUHnV0oVIQ"
      },
      "execution_count": null,
      "outputs": []
    },
    {
      "cell_type": "code",
      "source": [
        "print(\"List Element at Index 0:\", my_list[0])\n",
        "print(\"List Element at Index 3:\", my_list[3])\n",
        "print(\"Slice List [1:4]:\", my_list[1:4])"
      ],
      "metadata": {
        "colab": {
          "base_uri": "https://localhost:8080/"
        },
        "id": "gJeyIH1aoXoR",
        "outputId": "ae2eae44-3260-4e59-ef9f-1781b7e8b789"
      },
      "execution_count": null,
      "outputs": [
        {
          "output_type": "stream",
          "name": "stdout",
          "text": [
            "List Element at Index 0: 10\n",
            "List Element at Index 3: 40\n",
            "Slice List [1:4]: [20, 30, 40]\n"
          ]
        }
      ]
    },
    {
      "cell_type": "code",
      "source": [
        "print(\"Tuple Element at Index 1:\", my_tuple[1])\n",
        "print(\"Tuple Element at Index -1:\", my_tuple[-1])\n",
        "print(\"Slice Tuple [2:]:\", my_tuple[2:])"
      ],
      "metadata": {
        "colab": {
          "base_uri": "https://localhost:8080/"
        },
        "id": "hec-xexnoaaE",
        "outputId": "55ed6752-1621-4dc8-c287-3db86acfa9aa"
      },
      "execution_count": null,
      "outputs": [
        {
          "output_type": "stream",
          "name": "stdout",
          "text": [
            "Tuple Element at Index 1: banana\n",
            "Tuple Element at Index -1: elderberry\n",
            "Slice Tuple [2:]: ('cherry', 'date', 'elderberry')\n"
          ]
        }
      ]
    },
    {
      "cell_type": "code",
      "source": [
        "print(\"Dictionary Value for Key 'name':\", my_dict['name'])\n",
        "print(\"Dictionary Value for Key 'hobby':\", my_dict['hobby'])"
      ],
      "metadata": {
        "colab": {
          "base_uri": "https://localhost:8080/"
        },
        "id": "272xFSPUofJJ",
        "outputId": "006000ad-820e-4d05-91b5-f50429a65c6b"
      },
      "execution_count": null,
      "outputs": [
        {
          "output_type": "stream",
          "name": "stdout",
          "text": [
            "Dictionary Value for Key 'name': Alice\n",
            "Dictionary Value for Key 'hobby': painting\n"
          ]
        }
      ]
    },
    {
      "cell_type": "code",
      "source": [
        "\n",
        "print(\"Dictionary Value for Key 'age' (using get):\", my_dict.get('age'))\n",
        "print(\"Dictionary Value for a non-existent key (using get):\", my_dict.get('non_existent', 'Not Found'))"
      ],
      "metadata": {
        "colab": {
          "base_uri": "https://localhost:8080/"
        },
        "id": "T0dqCWHuohRu",
        "outputId": "eb448574-fb54-4496-8ec1-5dadeea95176"
      },
      "execution_count": null,
      "outputs": [
        {
          "output_type": "stream",
          "name": "stdout",
          "text": [
            "Dictionary Value for Key 'age' (using get): 25\n",
            "Dictionary Value for a non-existent key (using get): Not Found\n"
          ]
        }
      ]
    },
    {
      "cell_type": "code",
      "source": [],
      "metadata": {
        "id": "QOqmFR3Jojzw"
      },
      "execution_count": null,
      "outputs": []
    }
  ]
}