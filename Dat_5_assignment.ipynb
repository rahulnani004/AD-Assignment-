{
  "nbformat": 4,
  "nbformat_minor": 0,
  "metadata": {
    "colab": {
      "provenance": []
    },
    "kernelspec": {
      "name": "python3",
      "display_name": "Python 3"
    },
    "language_info": {
      "name": "python"
    }
  },
  "cells": [
    {
      "cell_type": "code",
      "execution_count": null,
      "metadata": {
        "colab": {
          "base_uri": "https://localhost:8080/"
        },
        "id": "GF4e-GpmBRBM",
        "outputId": "ce0f03ca-d504-4bbb-9628-4d2a6ef8f4d2"
      },
      "outputs": [
        {
          "name": "stdout",
          "output_type": "stream",
          "text": [
            "Enter a positive integer: 10\n"
          ]
        }
      ],
      "source": [
        "n = int(input(\"Enter a positive integer: \"))\n",
        "sum_numbers = 0\n",
        "counter = 1\n",
        "\n",
        "\n"
      ]
    },
    {
      "cell_type": "code",
      "source": [
        "print(\"Numbers from 1 to\", n, \":\")\n",
        "for i in range(1, n + 1):\n",
        "    print(i)"
      ],
      "metadata": {
        "colab": {
          "base_uri": "https://localhost:8080/"
        },
        "id": "3lagKmGBw7ZU",
        "outputId": "bbd29245-3a3f-4a11-aa66-12719cb69e36"
      },
      "execution_count": null,
      "outputs": [
        {
          "output_type": "stream",
          "name": "stdout",
          "text": [
            "Numbers from 1 to 10 :\n",
            "1\n",
            "2\n",
            "3\n",
            "4\n",
            "5\n",
            "6\n",
            "7\n",
            "8\n",
            "9\n",
            "10\n"
          ]
        }
      ]
    },
    {
      "cell_type": "code",
      "source": [
        "while counter <= n:\n",
        "    sum_numbers += counter\n",
        "    counter += 1"
      ],
      "metadata": {
        "id": "pDcYHODzw-_S"
      },
      "execution_count": null,
      "outputs": []
    },
    {
      "cell_type": "code",
      "source": [
        "print(\"The sum of all numbers from 1 to\", n, \"is:\", sum_numbers)\n"
      ],
      "metadata": {
        "colab": {
          "base_uri": "https://localhost:8080/"
        },
        "id": "B8ntwwouxBAD",
        "outputId": "b1be1025-874a-45eb-d8c3-62db67a288fc"
      },
      "execution_count": null,
      "outputs": [
        {
          "output_type": "stream",
          "name": "stdout",
          "text": [
            "The sum of all numbers from 1 to 10 is: 55\n"
          ]
        }
      ]
    },
    {
      "cell_type": "code",
      "source": [
        "def calculate_square(n):\n",
        "    return n ** 2"
      ],
      "metadata": {
        "id": "D9eStpClBpvz"
      },
      "execution_count": null,
      "outputs": []
    },
    {
      "cell_type": "code",
      "source": [
        "number = int(input(\"Enter a positive integer: \"))"
      ],
      "metadata": {
        "colab": {
          "base_uri": "https://localhost:8080/"
        },
        "id": "e-v3DCqOxQzj",
        "outputId": "06800238-6d74-470c-eabb-dfa80f8c019b"
      },
      "execution_count": null,
      "outputs": [
        {
          "name": "stdout",
          "output_type": "stream",
          "text": [
            "Enter a positive integer: 15\n"
          ]
        }
      ]
    },
    {
      "cell_type": "code",
      "source": [
        "square = calculate_square(number)"
      ],
      "metadata": {
        "id": "n1MMsyI7xSW7"
      },
      "execution_count": null,
      "outputs": []
    },
    {
      "cell_type": "code",
      "source": [
        "print(f\"The square of {number} is: {square}\")"
      ],
      "metadata": {
        "id": "7CictfeFxUDW",
        "outputId": "5aefd958-35c2-4399-ff75-7a0241995d6d",
        "colab": {
          "base_uri": "https://localhost:8080/"
        }
      },
      "execution_count": null,
      "outputs": [
        {
          "output_type": "stream",
          "name": "stdout",
          "text": [
            "The square of 15 is: 225\n"
          ]
        }
      ]
    },
    {
      "cell_type": "code",
      "source": [],
      "metadata": {
        "id": "1mkd9YkkxV3b"
      },
      "execution_count": null,
      "outputs": []
    }
  ]
}